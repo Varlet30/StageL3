{
 "cells": [
  {
   "cell_type": "markdown",
   "metadata": {},
   "source": [
    "Programme de préparation du Csv: Ajout / Suppression / Trie / Matricialisation"
   ]
  },
  {
   "cell_type": "code",
   "execution_count": 4,
   "metadata": {},
   "outputs": [
    {
     "data": {
      "text/plain": [
       "'ok'"
      ]
     },
     "execution_count": 4,
     "metadata": {},
     "output_type": "execute_result"
    }
   ],
   "source": [
    "#Librairies\n",
    "\n",
    "import math\n",
    "import matplotlib.pyplot as plt\n",
    "import pandas as pd\n",
    "import numpy as np\n",
    "from datetime import datetime\n",
    "from dateutil.parser import parse\n",
    "\n",
    "'ok'"
   ]
  },
  {
   "cell_type": "code",
   "execution_count": 5,
   "metadata": {},
   "outputs": [
    {
     "name": "stdout",
     "output_type": "stream",
     "text": [
      "Ok.\n"
     ]
    }
   ],
   "source": [
    "#Charge les fichiers avec remplissage des colonnes à données manquante\n",
    "\n",
    "dataframeEv = pd.read_csv('Data\\Events.csv', engine='python')\n",
    "dataframeEv.date = dataframeEv.date.map(parse)\n",
    "\n",
    "dataframeHo = pd.read_csv('Data\\Holidays.csv', engine='python')\n",
    "dataframeHo.date = dataframeHo.date.map(parse)\n",
    "\n",
    "dataframe = pd.read_csv('Data\\RONC.csv', engine='python')\n",
    "dataframe['temperature'].fillna(0, inplace=True)\n",
    "\n",
    "#Création d'un index date pour une jointure de fichier\n",
    "\n",
    "dataframe.date = dataframe.date.map(parse)\n",
    "dataframe=dataframe.join(dataframeEv.set_index('date'),on='date')\n",
    "dataframe=dataframe.join(dataframeHo.set_index('date'),on='date')\n",
    "\n",
    "#Trie des données\n",
    "# lardons: 300771 / eau: 59885 / casque: 404707 /  PQ: 525562 \n",
    "# poubelle: 889599 / ourson: 726349 / deloghi: 721528\n",
    "\n",
    "dataframe1=dataframe[(dataframe['numeroProduit'] ==59885) & (dataframe['numeroMagasin'] == 2) & (dataframe['quantiteVendue'] != 0) & (dataframe['numeroJourDansSemaine'] != 7)].copy()\n",
    "\n",
    "#Suppression des colonnes inintéressante\n",
    "\n",
    "dataframe1.drop('numeroProduit',axis=1,inplace=True)\n",
    "dataframe1.drop('numeroMagasin',axis=1,inplace=True)\n",
    "#dataframe1.drop('prixVente',axis=1,inplace=True)\n",
    "#dataframe1.drop('temperature',axis=1,inplace=True)\n",
    "#dataframe1.drop('promo',axis=1,inplace=True)\n",
    "dataframe1.drop('date',axis=1,inplace=True)\n",
    "\n",
    "#Matricialisation des données puis suppression de l'originale\n",
    "\n",
    "event = pd.get_dummies(dataframe1['event'], prefix=\"event\")\n",
    "dataframe1.drop('event',axis=1,inplace=True)\n",
    "holiday = pd.get_dummies(dataframe1['holiday'], prefix=\"holiday\")\n",
    "dataframe1.drop('holiday',axis=1,inplace=True)\n",
    "jour = pd.get_dummies(dataframe1['jour'], prefix=\"jour\")\n",
    "dataframe1.drop('jour',axis=1,inplace=True)\n",
    "mois = pd.get_dummies(dataframe1['mois'], prefix=\"mois\")\n",
    "dataframe1.drop('mois',axis=1,inplace=True)\n",
    "annee = pd.get_dummies(dataframe1['annee'], prefix=\"annee\")\n",
    "dataframe1.drop('annee',axis=1,inplace=True)\n",
    "numeroJourDansSemaine = pd.get_dummies(dataframe1['numeroJourDansSemaine'], prefix=\"numeroJourDansSemaine\")\n",
    "dataframe1.drop('numeroJourDansSemaine',axis=1,inplace=True)\n",
    "numeroJourDansAnnee = pd.get_dummies(dataframe1['numeroJourDansAnnee'], prefix=\"numeroJourDansAnnee\")\n",
    "dataframe1.drop('numeroJourDansAnnee',axis=1,inplace=True)\n",
    "numeroSemaine = pd.get_dummies(dataframe1['numeroSemaine'], prefix=\"numeroSemaine\")\n",
    "dataframe1.drop('numeroSemaine',axis=1,inplace=True)\n",
    "codeDelaMeteo = pd.get_dummies(dataframe1['codeDelaMeteo'], prefix=\"codeDelaMeteo\")\n",
    "dataframe1.drop('codeDelaMeteo',axis=1,inplace=True)\n",
    "\n",
    "#Création de la frame de donnée finale \n",
    "\n",
    "df = pd.concat([#jour, \n",
    "                mois, \n",
    "                #annee, \n",
    "                numeroJourDansSemaine, \n",
    "                #numeroJourDansAnnee, \n",
    "                #numeroSemaine, \n",
    "                #codeDelaMeteo,\n",
    "                event,\n",
    "                holiday,\n",
    "                dataframe1],axis=1)\n",
    "df.fillna(0, inplace=True)\n",
    "\n",
    "#Sauvegarde et création du fichier de donnée finale\n",
    "\n",
    "df.to_csv('Data\\BDDLAST.csv',index=False)\n",
    "\n",
    "print(\"Ok.\")"
   ]
  },
  {
   "cell_type": "code",
   "execution_count": null,
   "metadata": {},
   "outputs": [],
   "source": []
  }
 ],
 "metadata": {
  "kernelspec": {
   "display_name": "Python 3",
   "language": "python",
   "name": "python3"
  },
  "language_info": {
   "codemirror_mode": {
    "name": "ipython",
    "version": 3
   },
   "file_extension": ".py",
   "mimetype": "text/x-python",
   "name": "python",
   "nbconvert_exporter": "python",
   "pygments_lexer": "ipython3",
   "version": "3.7.1"
  }
 },
 "nbformat": 4,
 "nbformat_minor": 2
}
