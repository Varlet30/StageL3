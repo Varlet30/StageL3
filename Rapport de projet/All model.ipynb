{
 "cells": [
  {
   "cell_type": "markdown",
   "metadata": {},
   "source": [
    "Programme de lancement de différent modèle"
   ]
  },
  {
   "cell_type": "markdown",
   "metadata": {},
   "source": [
    "Librairies"
   ]
  },
  {
   "cell_type": "code",
   "execution_count": 5,
   "metadata": {},
   "outputs": [
    {
     "data": {
      "text/plain": [
       "'ok'"
      ]
     },
     "execution_count": 5,
     "metadata": {},
     "output_type": "execute_result"
    }
   ],
   "source": [
    "import math\n",
    "import json\n",
    "import numpy as np\n",
    "import pandas as pd\n",
    "import seaborn as sns\n",
    "import matplotlib.pyplot as plt\n",
    "\n",
    "from datetime import datetime\n",
    "from lightgbm import LGBMRegressor\n",
    "from statsmodels.tsa.arima_model import ARIMA\n",
    "\n",
    "from numpy import sort\n",
    "from numpy import loadtxt\n",
    "\n",
    "from xgboost import to_graphviz\n",
    "from xgboost import plot_tree\n",
    "from xgboost import plot_importance\n",
    "from xgboost import XGBClassifier\n",
    "from xgboost import XGBRegressor\n",
    "from xgboost import Booster\n",
    "\n",
    "from sklearn import tree\n",
    "from sklearn import linear_model\n",
    "from sklearn.svm import SVR\n",
    "from sklearn.tree import DecisionTreeClassifier\n",
    "from sklearn.metrics import accuracy_score\n",
    "from sklearn.metrics import mean_squared_error, mean_absolute_error\n",
    "from sklearn.datasets import make_regression\n",
    "from sklearn.ensemble import RandomForestRegressor\n",
    "from sklearn.ensemble import GradientBoostingRegressor\n",
    "from sklearn.linear_model import LassoLarsIC\n",
    "from sklearn.linear_model import SGDRegressor \n",
    "from sklearn.linear_model import LinearRegression\n",
    "from sklearn.linear_model import LogisticRegression\n",
    "from sklearn.preprocessing import MinMaxScaler\n",
    "from sklearn.neural_network import MLPRegressor\n",
    "from sklearn.neural_network import MLPClassifier\n",
    "from sklearn.model_selection import GridSearchCV\n",
    "from sklearn.model_selection import train_test_split, TimeSeriesSplit\n",
    "from sklearn.feature_selection import RFECV\n",
    "from sklearn.feature_selection import SelectFromModel\n",
    "\n",
    "'ok'"
   ]
  },
  {
   "cell_type": "code",
   "execution_count": 6,
   "metadata": {},
   "outputs": [
    {
     "name": "stdout",
     "output_type": "stream",
     "text": [
      "Nombre de modèle: 9\n"
     ]
    }
   ],
   "source": [
    "#Création de liste des modèles et de ses noms associés\n",
    "\n",
    "Model=[] \n",
    "NameModel=[]\n",
    "Model.append(MLPClassifier())\n",
    "NameModel.append('MLPClassifier')\n",
    "Model.append(LGBMRegressor())\n",
    "NameModel.append('LGBMRegressor')\n",
    "Model.append(XGBRegressor())\n",
    "NameModel.append('XGBRegressor')\n",
    "Model.append(RandomForestRegressor(random_state=2))\n",
    "NameModel.append('RandomForestRegressor')\n",
    "Model.append(MLPRegressor())\n",
    "NameModel.append('MLPRegressor')\n",
    "#Model.append(linear_model.LinearRegression())\n",
    "#NameModel.append('linear_model.LinearRegression')\n",
    "Model.append(tree.DecisionTreeRegressor())\n",
    "NameModel.append('tree.DecisionTreeRegressor')\n",
    "Model.append(tree.DecisionTreeClassifier())\n",
    "NameModel.append('tree.DecisionTreeClassifier')\n",
    "Model.append(tree.ExtraTreeRegressor())\n",
    "NameModel.append('tree.ExtraTreeRegressor')\n",
    "Model.append(GradientBoostingRegressor())\n",
    "NameModel.append('GradientBoostingRegressor')\n",
    "#Model.append(LassoLarsIC())\n",
    "#NameModel.append('LassoLarsIC')\n",
    "#Model.append(SGDRegressor())\n",
    "#NameModel.append('SGDRegressor')\n",
    "#Model.append(LinearRegression())\n",
    "#NameModel.append('LogisticRegression')\n",
    "#Model.append(LinearRegression())\n",
    "#NameModel.append('LogisticRegression')\n",
    "\n",
    "print('Nombre de modèle: {:d}'.format(len(Model)))"
   ]
  },
  {
   "cell_type": "markdown",
   "metadata": {},
   "source": [
    "Cross Validation du modèle"
   ]
  },
  {
   "cell_type": "code",
   "execution_count": 7,
   "metadata": {},
   "outputs": [
    {
     "name": "stdout",
     "output_type": "stream",
     "text": [
      "Relative error for model XGBRegressor: 19.33% \n",
      "Relative MAPE error for model: 19.53% \n"
     ]
    }
   ],
   "source": [
    "#Chargement des données\n",
    "\n",
    "dataframe = pd.read_csv('Data\\BDDLAST.csv', engine='python', )\n",
    "dataset = dataframe.values\n",
    "\n",
    "#Création des variables\n",
    "\n",
    "X = dataframe.drop('quantiteVendue', axis=1)\n",
    "y = dataframe['quantiteVendue']\n",
    "\n",
    "#Numéro du modèle à utiliser\n",
    "\n",
    "NumModel=2\n",
    "\n",
    "#On définit la MAPE qui sert quantifier l'erreur: pourcentage moyen de différence\n",
    "\n",
    "def mean_absolute_percentage_error(y_true, y_pred):\n",
    "    y_true, y_pred = np.array(y_true), np.array(y_pred)   \n",
    "    a = np.array(y_true)\n",
    "    b = np.array(y_pred)\n",
    "    mean = (a + b)/2.0\n",
    "    return 100*np.mean(np.abs((y_true - y_pred) / np.maximum(mean, 1)))\n",
    "\n",
    "#On définit la RMSE qui sert quantifier l'erreur: valeur moyenne de différence\n",
    "\n",
    "def root_mean_square_error(y_pred, y_true):\n",
    "    return math.sqrt(mean_squared_error(y_pred, y_true))\n",
    "\n",
    "#Création des différents splits\n",
    "\n",
    "# X_groups = pd.qcut(X.index, 100, labels=False)\n",
    "pred = pd.Series([np.nan] * len(X), index=X.index)\n",
    "\n",
    "n_predictions = 10\n",
    "periode_prediction = 30\n",
    "\n",
    "tss = TimeSeriesSplit(n_splits=n_predictions)\n",
    "m_err=0\n",
    "for train_index, test_index in tss.split(X): #, groups=X_groups):\n",
    "    test_index = test_index[0:periode_prediction]\n",
    "    \n",
    "    X_train = X.loc[train_index]\n",
    "    y_train = y.loc[train_index]\n",
    "    X_test = X.loc[test_index]\n",
    "    y_test = y.loc[test_index]\n",
    "    \n",
    "    #Entrainement du modèle choisi\n",
    "    \n",
    "    model=Model[NumModel]\n",
    "    model.fit(X_train, y_train)\n",
    "\n",
    "    pred.loc[test_index] = model.predict(X_test)\n",
    "\n",
    "#Calucul de l'erreur\n",
    "    \n",
    "predicted_index = ~pred.isnull()\n",
    "relative_error = mean_absolute_error(y[predicted_index], pred[predicted_index]) / np.mean(y)\n",
    "mape=mean_absolute_percentage_error(y[predicted_index], pred[predicted_index])\n",
    "print('Relative error for model {}: {:.2f}% '.format(model.__class__.__name__, relative_error*100))\n",
    "print('Relative MAPE error for model: {:.2f}% '.format(mape))"
   ]
  },
  {
   "cell_type": "markdown",
   "metadata": {},
   "source": [
    "Split \"taille\" pour tester le modèle"
   ]
  },
  {
   "cell_type": "code",
   "execution_count": 9,
   "metadata": {},
   "outputs": [
    {
     "name": "stdout",
     "output_type": "stream",
     "text": [
      "Relative MAPE error for model: 17.06% \n",
      "Relative RMSE error for model: 929.20 \n"
     ]
    }
   ],
   "source": [
    "#80 de valeur train et 20 de test\n",
    "\n",
    "taille=len(X)*0.80\n",
    "\n",
    "#Création de toutes les variables\n",
    "\n",
    "X_train = X[dataframe.index < taille]\n",
    "y_train = y[dataframe.index < taille]\n",
    "\n",
    "X_test = X[dataframe.index >= taille]\n",
    "y_test = y[dataframe.index >= taille]\n",
    "\n",
    "#Entrainement du modèle\n",
    "\n",
    "model = Model[NumModel]\n",
    "model.fit(X_train, y_train)\n",
    "\n",
    "#Récupération des données prédites\n",
    "\n",
    "predictions = model.predict(X_test)\n",
    "\n",
    "error = None\n",
    "mape = mean_absolute_percentage_error(y_test, predictions)\n",
    "rmse = root_mean_square_error(y_test, predictions)\n",
    "print('Relative MAPE error for model: {:.2f}% '.format(mape))\n",
    "print('Relative RMSE error for model: {:.2f} '.format(rmse))"
   ]
  },
  {
   "cell_type": "code",
   "execution_count": null,
   "metadata": {},
   "outputs": [],
   "source": []
  }
 ],
 "metadata": {
  "kernelspec": {
   "display_name": "Python 3",
   "language": "python",
   "name": "python3"
  },
  "language_info": {
   "codemirror_mode": {
    "name": "ipython",
    "version": 3
   },
   "file_extension": ".py",
   "mimetype": "text/x-python",
   "name": "python",
   "nbconvert_exporter": "python",
   "pygments_lexer": "ipython3",
   "version": "3.6.6"
  }
 },
 "nbformat": 4,
 "nbformat_minor": 2
}
